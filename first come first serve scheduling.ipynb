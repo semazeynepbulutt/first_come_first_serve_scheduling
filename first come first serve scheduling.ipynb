{
 "cells": [
  {
   "cell_type": "code",
   "execution_count": 72,
   "id": "6f382be7",
   "metadata": {},
   "outputs": [
    {
     "name": "stdout",
     "output_type": "stream",
     "text": [
      "   index of process  arrival time  execution time  service time  waiting time  \\\n",
      "0                 0             0               6             0             0   \n",
      "1                 1             1              15             6             5   \n",
      "2                 2             2              20            21            19   \n",
      "3                 3             3               8            41            38   \n",
      "4                 4             4              18            49            45   \n",
      "5                 5             5              26            67            62   \n",
      "6                 6             6              14            93            87   \n",
      "7                 7             7               9           107           100   \n",
      "\n",
      "   turn around time  \n",
      "0                 6  \n",
      "1                20  \n",
      "2                39  \n",
      "3                46  \n",
      "4                63  \n",
      "5                88  \n",
      "6               101  \n",
      "7               109  \n"
     ]
    }
   ],
   "source": [
    "import pandas as pd\n",
    "def sort_by_arrival_time(processes):\n",
    "    processes.sort(key=lambda x: x[1])\n",
    "    return processes\n",
    "def create_service_time(processes):\n",
    "    st = list(map(lambda x: sum(processes[:processes.index(x)][i][2] for i in range(processes.index(x))) if (processes.index(x) - 1 >= 0) else 0, processes))\n",
    "    p = list(map(lambda x: processes[processes.index(x)]+(st[processes.index(x)],),processes))\n",
    "    return p\n",
    "def create_waiting_time(processes):\n",
    "    wt = list(map(lambda x: processes[processes.index(x)][3]-processes[processes.index(x)][1] if (processes.index(x) - 1 >= 0) else 0, processes))\n",
    "    p = list(map(lambda x: processes[processes.index(x)] + (wt[processes.index(x)],), processes))\n",
    "    return p\n",
    "def create_turn_around_time(processes):\n",
    "    tat = list(map(lambda x: processes[processes.index(x)][3]+processes[processes.index(x)][2]-processes[processes.index(x)][1] , processes))\n",
    "    p = list(map(lambda x: processes[processes.index(x)] + (tat[processes.index(x)],), processes))\n",
    "    df = pd.DataFrame(p,columns=['index of process','arrival time','execution time','service time','waiting time','turn around time'])\n",
    "    return df\n",
    "def read_txt(filename):\n",
    "    queue_fcfs = []\n",
    "    with open(filename) as f:\n",
    "        for index,line in enumerate(f.readlines()):\n",
    "            line = list(map(int, line.replace(\"\\n\",\"\").split()))\n",
    "            line.insert(0,index)\n",
    "            line = (*line, )\n",
    "            queue_fcfs.append(line)\n",
    "    return queue_fcfs\n",
    "def main():\n",
    "    data = create_turn_around_time(create_waiting_time(create_service_time(sort_by_arrival_time(read_txt('fcfs_data.txt')))))\n",
    "    print(data)\n",
    "if __name__==\"__main__\":\n",
    "    main()\n"
   ]
  },
  {
   "cell_type": "code",
   "execution_count": null,
   "id": "c504bea5",
   "metadata": {},
   "outputs": [],
   "source": []
  }
 ],
 "metadata": {
  "kernelspec": {
   "display_name": "Python 3",
   "language": "python",
   "name": "python3"
  },
  "language_info": {
   "codemirror_mode": {
    "name": "ipython",
    "version": 3
   },
   "file_extension": ".py",
   "mimetype": "text/x-python",
   "name": "python",
   "nbconvert_exporter": "python",
   "pygments_lexer": "ipython3",
   "version": "3.8.8"
  }
 },
 "nbformat": 4,
 "nbformat_minor": 5
}
