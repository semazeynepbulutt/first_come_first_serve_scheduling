{
 "cells": [
  {
   "cell_type": "code",
   "execution_count": 9,
   "id": "f5579f7b",
   "metadata": {},
   "outputs": [
    {
     "name": "stdout",
     "output_type": "stream",
     "text": [
      "Enter the number of processes : 3\n",
      "Enter processes arrival time value: 2 0 1\n",
      "Enter processes execution time value: 5 15 10\n",
      "index of process [0, 1, 2]\n",
      "arrival time [2, 0, 1]\n",
      "execution time [2, 0, 1]\n",
      "[(1, 0, 15), (2, 1, 10), (0, 2, 5)]\n"
     ]
    },
    {
     "ename": "IndexError",
     "evalue": "list index out of range",
     "output_type": "error",
     "traceback": [
      "\u001b[1;31m---------------------------------------------------------------------------\u001b[0m",
      "\u001b[1;31mIndexError\u001b[0m                                Traceback (most recent call last)",
      "\u001b[1;32m<ipython-input-9-9beecf13a753>\u001b[0m in \u001b[0;36m<module>\u001b[1;34m\u001b[0m\n\u001b[0;32m     26\u001b[0m \u001b[0mprint\u001b[0m\u001b[1;33m(\u001b[0m\u001b[1;34m'execution time'\u001b[0m\u001b[1;33m,\u001b[0m\u001b[0mprocesses_arrival_time_list\u001b[0m\u001b[1;33m)\u001b[0m\u001b[1;33m\u001b[0m\u001b[1;33m\u001b[0m\u001b[0m\n\u001b[0;32m     27\u001b[0m \u001b[0mprocesses\u001b[0m \u001b[1;33m=\u001b[0m \u001b[0mlist\u001b[0m\u001b[1;33m(\u001b[0m\u001b[0mzip\u001b[0m\u001b[1;33m(\u001b[0m\u001b[0mlist\u001b[0m\u001b[1;33m(\u001b[0m\u001b[0mrange\u001b[0m\u001b[1;33m(\u001b[0m\u001b[0mprocess_num\u001b[0m\u001b[1;33m)\u001b[0m\u001b[1;33m)\u001b[0m\u001b[1;33m,\u001b[0m\u001b[0mprocesses_arrival_time_list\u001b[0m\u001b[1;33m,\u001b[0m\u001b[0mprocesses_execution_time\u001b[0m\u001b[1;33m)\u001b[0m\u001b[1;33m)\u001b[0m\u001b[1;33m\u001b[0m\u001b[1;33m\u001b[0m\u001b[0m\n\u001b[1;32m---> 28\u001b[1;33m \u001b[0mprint\u001b[0m\u001b[1;33m(\u001b[0m\u001b[0mcreate_turn_around_time\u001b[0m\u001b[1;33m(\u001b[0m\u001b[0mcreate_waiting_time\u001b[0m\u001b[1;33m(\u001b[0m\u001b[0mcreate_service_time\u001b[0m\u001b[1;33m(\u001b[0m\u001b[0msort_by_arrival_time\u001b[0m\u001b[1;33m(\u001b[0m\u001b[0mprocesses\u001b[0m\u001b[1;33m)\u001b[0m\u001b[1;33m)\u001b[0m\u001b[1;33m)\u001b[0m\u001b[1;33m)\u001b[0m\u001b[1;33m)\u001b[0m\u001b[1;33m\u001b[0m\u001b[1;33m\u001b[0m\u001b[0m\n\u001b[0m\u001b[0;32m     29\u001b[0m \u001b[1;33m\u001b[0m\u001b[0m\n",
      "\u001b[1;32m<ipython-input-9-9beecf13a753>\u001b[0m in \u001b[0;36mcreate_service_time\u001b[1;34m(processes)\u001b[0m\n\u001b[0;32m      7\u001b[0m     \u001b[1;32mreturn\u001b[0m \u001b[0mprocesses\u001b[0m\u001b[1;33m\u001b[0m\u001b[1;33m\u001b[0m\u001b[0m\n\u001b[0;32m      8\u001b[0m \u001b[1;32mdef\u001b[0m \u001b[0mcreate_service_time\u001b[0m\u001b[1;33m(\u001b[0m\u001b[0mprocesses\u001b[0m\u001b[1;33m)\u001b[0m\u001b[1;33m:\u001b[0m\u001b[1;33m\u001b[0m\u001b[1;33m\u001b[0m\u001b[0m\n\u001b[1;32m----> 9\u001b[1;33m     \u001b[0mst\u001b[0m \u001b[1;33m=\u001b[0m \u001b[0mlist\u001b[0m\u001b[1;33m(\u001b[0m\u001b[0mmap\u001b[0m\u001b[1;33m(\u001b[0m\u001b[1;32mlambda\u001b[0m \u001b[0mx\u001b[0m\u001b[1;33m:\u001b[0m \u001b[0msum\u001b[0m\u001b[1;33m(\u001b[0m\u001b[0mprocesses\u001b[0m\u001b[1;33m[\u001b[0m\u001b[1;33m:\u001b[0m\u001b[0mprocesses\u001b[0m\u001b[1;33m.\u001b[0m\u001b[0mindex\u001b[0m\u001b[1;33m(\u001b[0m\u001b[0mx\u001b[0m\u001b[1;33m)\u001b[0m \u001b[1;33m-\u001b[0m \u001b[1;36m1\u001b[0m\u001b[1;33m]\u001b[0m\u001b[1;33m[\u001b[0m\u001b[1;36m2\u001b[0m\u001b[1;33m]\u001b[0m\u001b[1;33m)\u001b[0m \u001b[1;32mif\u001b[0m \u001b[1;33m(\u001b[0m\u001b[0mprocesses\u001b[0m\u001b[1;33m.\u001b[0m\u001b[0mindex\u001b[0m\u001b[1;33m(\u001b[0m\u001b[0mx\u001b[0m\u001b[1;33m)\u001b[0m \u001b[1;33m-\u001b[0m \u001b[1;36m1\u001b[0m \u001b[1;33m>=\u001b[0m \u001b[1;36m0\u001b[0m\u001b[1;33m)\u001b[0m \u001b[1;32mand\u001b[0m \u001b[1;33m(\u001b[0m\u001b[0mprocesses\u001b[0m\u001b[1;33m.\u001b[0m\u001b[0mindex\u001b[0m\u001b[1;33m(\u001b[0m\u001b[0mx\u001b[0m\u001b[1;33m)\u001b[0m\u001b[1;33m+\u001b[0m\u001b[1;36m1\u001b[0m\u001b[1;33m<=\u001b[0m\u001b[0mlen\u001b[0m\u001b[1;33m(\u001b[0m\u001b[0mprocesses\u001b[0m\u001b[1;33m)\u001b[0m\u001b[1;33m)\u001b[0m \u001b[1;32melse\u001b[0m \u001b[1;36m0\u001b[0m\u001b[1;33m,\u001b[0m \u001b[0mprocesses\u001b[0m\u001b[1;33m)\u001b[0m\u001b[1;33m)\u001b[0m\u001b[1;33m\u001b[0m\u001b[1;33m\u001b[0m\u001b[0m\n\u001b[0m\u001b[0;32m     10\u001b[0m     \u001b[0mp\u001b[0m \u001b[1;33m=\u001b[0m \u001b[0mlist\u001b[0m\u001b[1;33m(\u001b[0m\u001b[0mmap\u001b[0m\u001b[1;33m(\u001b[0m\u001b[1;32mlambda\u001b[0m \u001b[0mx\u001b[0m\u001b[1;33m:\u001b[0m \u001b[0mprocesses\u001b[0m\u001b[1;33m[\u001b[0m\u001b[0mprocesses\u001b[0m\u001b[1;33m.\u001b[0m\u001b[0mindex\u001b[0m\u001b[1;33m(\u001b[0m\u001b[0mx\u001b[0m\u001b[1;33m)\u001b[0m\u001b[1;33m]\u001b[0m\u001b[1;33m+\u001b[0m\u001b[1;33m(\u001b[0m\u001b[0mst\u001b[0m\u001b[1;33m[\u001b[0m\u001b[0mprocesses\u001b[0m\u001b[1;33m.\u001b[0m\u001b[0mindex\u001b[0m\u001b[1;33m(\u001b[0m\u001b[0mx\u001b[0m\u001b[1;33m)\u001b[0m\u001b[1;33m]\u001b[0m\u001b[1;33m,\u001b[0m\u001b[1;33m)\u001b[0m\u001b[1;33m,\u001b[0m\u001b[0mprocesses\u001b[0m\u001b[1;33m)\u001b[0m\u001b[1;33m)\u001b[0m\u001b[1;33m\u001b[0m\u001b[1;33m\u001b[0m\u001b[0m\n\u001b[0;32m     11\u001b[0m     \u001b[0mprint\u001b[0m\u001b[1;33m(\u001b[0m\u001b[0mp\u001b[0m\u001b[1;33m)\u001b[0m\u001b[1;33m\u001b[0m\u001b[1;33m\u001b[0m\u001b[0m\n",
      "\u001b[1;32m<ipython-input-9-9beecf13a753>\u001b[0m in \u001b[0;36m<lambda>\u001b[1;34m(x)\u001b[0m\n\u001b[0;32m      7\u001b[0m     \u001b[1;32mreturn\u001b[0m \u001b[0mprocesses\u001b[0m\u001b[1;33m\u001b[0m\u001b[1;33m\u001b[0m\u001b[0m\n\u001b[0;32m      8\u001b[0m \u001b[1;32mdef\u001b[0m \u001b[0mcreate_service_time\u001b[0m\u001b[1;33m(\u001b[0m\u001b[0mprocesses\u001b[0m\u001b[1;33m)\u001b[0m\u001b[1;33m:\u001b[0m\u001b[1;33m\u001b[0m\u001b[1;33m\u001b[0m\u001b[0m\n\u001b[1;32m----> 9\u001b[1;33m     \u001b[0mst\u001b[0m \u001b[1;33m=\u001b[0m \u001b[0mlist\u001b[0m\u001b[1;33m(\u001b[0m\u001b[0mmap\u001b[0m\u001b[1;33m(\u001b[0m\u001b[1;32mlambda\u001b[0m \u001b[0mx\u001b[0m\u001b[1;33m:\u001b[0m \u001b[0msum\u001b[0m\u001b[1;33m(\u001b[0m\u001b[0mprocesses\u001b[0m\u001b[1;33m[\u001b[0m\u001b[1;33m:\u001b[0m\u001b[0mprocesses\u001b[0m\u001b[1;33m.\u001b[0m\u001b[0mindex\u001b[0m\u001b[1;33m(\u001b[0m\u001b[0mx\u001b[0m\u001b[1;33m)\u001b[0m \u001b[1;33m-\u001b[0m \u001b[1;36m1\u001b[0m\u001b[1;33m]\u001b[0m\u001b[1;33m[\u001b[0m\u001b[1;36m2\u001b[0m\u001b[1;33m]\u001b[0m\u001b[1;33m)\u001b[0m \u001b[1;32mif\u001b[0m \u001b[1;33m(\u001b[0m\u001b[0mprocesses\u001b[0m\u001b[1;33m.\u001b[0m\u001b[0mindex\u001b[0m\u001b[1;33m(\u001b[0m\u001b[0mx\u001b[0m\u001b[1;33m)\u001b[0m \u001b[1;33m-\u001b[0m \u001b[1;36m1\u001b[0m \u001b[1;33m>=\u001b[0m \u001b[1;36m0\u001b[0m\u001b[1;33m)\u001b[0m \u001b[1;32mand\u001b[0m \u001b[1;33m(\u001b[0m\u001b[0mprocesses\u001b[0m\u001b[1;33m.\u001b[0m\u001b[0mindex\u001b[0m\u001b[1;33m(\u001b[0m\u001b[0mx\u001b[0m\u001b[1;33m)\u001b[0m\u001b[1;33m+\u001b[0m\u001b[1;36m1\u001b[0m\u001b[1;33m<=\u001b[0m\u001b[0mlen\u001b[0m\u001b[1;33m(\u001b[0m\u001b[0mprocesses\u001b[0m\u001b[1;33m)\u001b[0m\u001b[1;33m)\u001b[0m \u001b[1;32melse\u001b[0m \u001b[1;36m0\u001b[0m\u001b[1;33m,\u001b[0m \u001b[0mprocesses\u001b[0m\u001b[1;33m)\u001b[0m\u001b[1;33m)\u001b[0m\u001b[1;33m\u001b[0m\u001b[1;33m\u001b[0m\u001b[0m\n\u001b[0m\u001b[0;32m     10\u001b[0m     \u001b[0mp\u001b[0m \u001b[1;33m=\u001b[0m \u001b[0mlist\u001b[0m\u001b[1;33m(\u001b[0m\u001b[0mmap\u001b[0m\u001b[1;33m(\u001b[0m\u001b[1;32mlambda\u001b[0m \u001b[0mx\u001b[0m\u001b[1;33m:\u001b[0m \u001b[0mprocesses\u001b[0m\u001b[1;33m[\u001b[0m\u001b[0mprocesses\u001b[0m\u001b[1;33m.\u001b[0m\u001b[0mindex\u001b[0m\u001b[1;33m(\u001b[0m\u001b[0mx\u001b[0m\u001b[1;33m)\u001b[0m\u001b[1;33m]\u001b[0m\u001b[1;33m+\u001b[0m\u001b[1;33m(\u001b[0m\u001b[0mst\u001b[0m\u001b[1;33m[\u001b[0m\u001b[0mprocesses\u001b[0m\u001b[1;33m.\u001b[0m\u001b[0mindex\u001b[0m\u001b[1;33m(\u001b[0m\u001b[0mx\u001b[0m\u001b[1;33m)\u001b[0m\u001b[1;33m]\u001b[0m\u001b[1;33m,\u001b[0m\u001b[1;33m)\u001b[0m\u001b[1;33m,\u001b[0m\u001b[0mprocesses\u001b[0m\u001b[1;33m)\u001b[0m\u001b[1;33m)\u001b[0m\u001b[1;33m\u001b[0m\u001b[1;33m\u001b[0m\u001b[0m\n\u001b[0;32m     11\u001b[0m     \u001b[0mprint\u001b[0m\u001b[1;33m(\u001b[0m\u001b[0mp\u001b[0m\u001b[1;33m)\u001b[0m\u001b[1;33m\u001b[0m\u001b[1;33m\u001b[0m\u001b[0m\n",
      "\u001b[1;31mIndexError\u001b[0m: list index out of range"
     ]
    }
   ],
   "source": [
    "import pandas as pd\n",
    "from queue import Queue\n",
    "def sort_by_arrival_time(processes):\n",
    "    #processes_queue = Queue(maxsize=processes_number)\n",
    "    processes.sort(key=lambda x: x[1])\n",
    "    print(processes)\n",
    "    return processes\n",
    "def create_service_time(processes):\n",
    "    print(processes[processes.index((2, 1, 10)) - 1][2])\n",
    "    st = list(map(lambda x: sum(processes[:processes.index(x) - 1][2]) if (processes.index(x) - 1 >= 0) else 0, processes))\n",
    "    p = list(map(lambda x: processes[processes.index(x)]+(st[processes.index(x)],),processes))\n",
    "    print(p)\n",
    "    return p\n",
    "def create_waiting_time(processes):\n",
    "    wt = list(map(lambda x: processes[:processes.index(x)][3]+processes[:processes.index(x)][1] if (processes.index(x) - 1 >= 0) else 0, processes))\n",
    "    p = list(map(lambda x: processes[processes.index(x)] + (wt[processes.index(x)],), processes))\n",
    "    return p\n",
    "def create_turn_around_time(processes):\n",
    "    tat = list(map(lambda x: ((processes[:processes.index(x)][3]+processes[:processes.index(x)][2])-processes[:processes.index(x)][1]), processes))\n",
    "    p = list(map(lambda x: processes[processes.index(x)] + (tat[processes.index(x)],), processes))\n",
    "    return p\n",
    "process_num = int(input(\"Enter the number of processes : \"))\n",
    "processes_arrival_time_list = list(map(int, input(\"Enter processes arrival time value: \").split()))\n",
    "processes_execution_time = list(map(int, input(\"Enter processes execution time value: \").split()))\n",
    "print('index of process',list(range(process_num)))\n",
    "print('arrival time',processes_arrival_time_list)\n",
    "print('execution time',processes_arrival_time_list)\n",
    "processes = list(zip(list(range(process_num)),processes_arrival_time_list,processes_execution_time))\n",
    "print(create_turn_around_time(create_waiting_time(create_service_time(sort_by_arrival_time(processes)))))\n",
    "\n"
   ]
  },
  {
   "cell_type": "code",
   "execution_count": 24,
   "id": "1387a4fb",
   "metadata": {},
   "outputs": [
    {
     "name": "stdout",
     "output_type": "stream",
     "text": [
      "Enter the number of processes : 3\n",
      "Enter processes arrival time value: 2 0 1\n",
      "Enter processes execution time value: 5 15 10\n",
      "index of process [0, 1, 2]\n",
      "arrival time [2, 0, 1]\n",
      "execution time [2, 0, 1]\n",
      "[(1, 0, 15), (2, 1, 10), (0, 2, 5)]\n"
     ]
    },
    {
     "ename": "IndexError",
     "evalue": "list index out of range",
     "output_type": "error",
     "traceback": [
      "\u001b[1;31m---------------------------------------------------------------------------\u001b[0m",
      "\u001b[1;31mIndexError\u001b[0m                                Traceback (most recent call last)",
      "\u001b[1;32m<ipython-input-24-d491ca4d0424>\u001b[0m in \u001b[0;36m<module>\u001b[1;34m\u001b[0m\n\u001b[0;32m     26\u001b[0m \u001b[0mprint\u001b[0m\u001b[1;33m(\u001b[0m\u001b[1;34m'execution time'\u001b[0m\u001b[1;33m,\u001b[0m\u001b[0mprocesses_arrival_time_list\u001b[0m\u001b[1;33m)\u001b[0m\u001b[1;33m\u001b[0m\u001b[1;33m\u001b[0m\u001b[0m\n\u001b[0;32m     27\u001b[0m \u001b[0mprocesses\u001b[0m \u001b[1;33m=\u001b[0m \u001b[0mlist\u001b[0m\u001b[1;33m(\u001b[0m\u001b[0mzip\u001b[0m\u001b[1;33m(\u001b[0m\u001b[0mlist\u001b[0m\u001b[1;33m(\u001b[0m\u001b[0mrange\u001b[0m\u001b[1;33m(\u001b[0m\u001b[0mprocess_num\u001b[0m\u001b[1;33m)\u001b[0m\u001b[1;33m)\u001b[0m\u001b[1;33m,\u001b[0m\u001b[0mprocesses_arrival_time_list\u001b[0m\u001b[1;33m,\u001b[0m\u001b[0mprocesses_execution_time\u001b[0m\u001b[1;33m)\u001b[0m\u001b[1;33m)\u001b[0m\u001b[1;33m\u001b[0m\u001b[1;33m\u001b[0m\u001b[0m\n\u001b[1;32m---> 28\u001b[1;33m \u001b[0mprint\u001b[0m\u001b[1;33m(\u001b[0m\u001b[0mcreate_turn_around_time\u001b[0m\u001b[1;33m(\u001b[0m\u001b[0mcreate_waiting_time\u001b[0m\u001b[1;33m(\u001b[0m\u001b[0mcreate_service_time\u001b[0m\u001b[1;33m(\u001b[0m\u001b[0msort_by_arrival_time\u001b[0m\u001b[1;33m(\u001b[0m\u001b[0mprocesses\u001b[0m\u001b[1;33m)\u001b[0m\u001b[1;33m)\u001b[0m\u001b[1;33m)\u001b[0m\u001b[1;33m)\u001b[0m\u001b[1;33m)\u001b[0m\u001b[1;33m\u001b[0m\u001b[1;33m\u001b[0m\u001b[0m\n\u001b[0m",
      "\u001b[1;32m<ipython-input-24-d491ca4d0424>\u001b[0m in \u001b[0;36mcreate_service_time\u001b[1;34m(processes)\u001b[0m\n\u001b[0;32m      7\u001b[0m     \u001b[1;32mreturn\u001b[0m \u001b[0mprocesses\u001b[0m\u001b[1;33m\u001b[0m\u001b[1;33m\u001b[0m\u001b[0m\n\u001b[0;32m      8\u001b[0m \u001b[1;32mdef\u001b[0m \u001b[0mcreate_service_time\u001b[0m\u001b[1;33m(\u001b[0m\u001b[0mprocesses\u001b[0m\u001b[1;33m)\u001b[0m\u001b[1;33m:\u001b[0m\u001b[1;33m\u001b[0m\u001b[1;33m\u001b[0m\u001b[0m\n\u001b[1;32m----> 9\u001b[1;33m     \u001b[0mst\u001b[0m \u001b[1;33m=\u001b[0m \u001b[0mlist\u001b[0m\u001b[1;33m(\u001b[0m\u001b[0mmap\u001b[0m\u001b[1;33m(\u001b[0m\u001b[1;32mlambda\u001b[0m \u001b[0mx\u001b[0m\u001b[1;33m:\u001b[0m \u001b[0mprint\u001b[0m\u001b[1;33m(\u001b[0m\u001b[0mprocesses\u001b[0m\u001b[1;33m[\u001b[0m\u001b[1;33m:\u001b[0m\u001b[0mprocesses\u001b[0m\u001b[1;33m.\u001b[0m\u001b[0mindex\u001b[0m\u001b[1;33m(\u001b[0m\u001b[0mx\u001b[0m\u001b[1;33m)\u001b[0m\u001b[1;33m]\u001b[0m\u001b[1;33m[\u001b[0m\u001b[1;36m2\u001b[0m\u001b[1;33m]\u001b[0m\u001b[1;33m)\u001b[0m \u001b[1;32mif\u001b[0m \u001b[1;33m(\u001b[0m\u001b[0mprocesses\u001b[0m\u001b[1;33m.\u001b[0m\u001b[0mindex\u001b[0m\u001b[1;33m(\u001b[0m\u001b[0mx\u001b[0m\u001b[1;33m)\u001b[0m \u001b[1;33m-\u001b[0m \u001b[1;36m1\u001b[0m \u001b[1;33m>=\u001b[0m \u001b[1;36m0\u001b[0m\u001b[1;33m)\u001b[0m \u001b[1;32melse\u001b[0m \u001b[1;36m0\u001b[0m\u001b[1;33m,\u001b[0m \u001b[0mprocesses\u001b[0m\u001b[1;33m)\u001b[0m\u001b[1;33m)\u001b[0m\u001b[1;33m\u001b[0m\u001b[1;33m\u001b[0m\u001b[0m\n\u001b[0m\u001b[0;32m     10\u001b[0m     \u001b[0mp\u001b[0m \u001b[1;33m=\u001b[0m \u001b[0mlist\u001b[0m\u001b[1;33m(\u001b[0m\u001b[0mmap\u001b[0m\u001b[1;33m(\u001b[0m\u001b[1;32mlambda\u001b[0m \u001b[0mx\u001b[0m\u001b[1;33m:\u001b[0m \u001b[0mprocesses\u001b[0m\u001b[1;33m[\u001b[0m\u001b[0mprocesses\u001b[0m\u001b[1;33m.\u001b[0m\u001b[0mindex\u001b[0m\u001b[1;33m(\u001b[0m\u001b[0mx\u001b[0m\u001b[1;33m)\u001b[0m\u001b[1;33m]\u001b[0m\u001b[1;33m+\u001b[0m\u001b[1;33m(\u001b[0m\u001b[0mst\u001b[0m\u001b[1;33m[\u001b[0m\u001b[0mprocesses\u001b[0m\u001b[1;33m.\u001b[0m\u001b[0mindex\u001b[0m\u001b[1;33m(\u001b[0m\u001b[0mx\u001b[0m\u001b[1;33m)\u001b[0m\u001b[1;33m]\u001b[0m\u001b[1;33m,\u001b[0m\u001b[1;33m)\u001b[0m\u001b[1;33m,\u001b[0m\u001b[0mprocesses\u001b[0m\u001b[1;33m)\u001b[0m\u001b[1;33m)\u001b[0m\u001b[1;33m\u001b[0m\u001b[1;33m\u001b[0m\u001b[0m\n\u001b[0;32m     11\u001b[0m     \u001b[0mprint\u001b[0m\u001b[1;33m(\u001b[0m\u001b[0mp\u001b[0m\u001b[1;33m)\u001b[0m\u001b[1;33m\u001b[0m\u001b[1;33m\u001b[0m\u001b[0m\n",
      "\u001b[1;32m<ipython-input-24-d491ca4d0424>\u001b[0m in \u001b[0;36m<lambda>\u001b[1;34m(x)\u001b[0m\n\u001b[0;32m      7\u001b[0m     \u001b[1;32mreturn\u001b[0m \u001b[0mprocesses\u001b[0m\u001b[1;33m\u001b[0m\u001b[1;33m\u001b[0m\u001b[0m\n\u001b[0;32m      8\u001b[0m \u001b[1;32mdef\u001b[0m \u001b[0mcreate_service_time\u001b[0m\u001b[1;33m(\u001b[0m\u001b[0mprocesses\u001b[0m\u001b[1;33m)\u001b[0m\u001b[1;33m:\u001b[0m\u001b[1;33m\u001b[0m\u001b[1;33m\u001b[0m\u001b[0m\n\u001b[1;32m----> 9\u001b[1;33m     \u001b[0mst\u001b[0m \u001b[1;33m=\u001b[0m \u001b[0mlist\u001b[0m\u001b[1;33m(\u001b[0m\u001b[0mmap\u001b[0m\u001b[1;33m(\u001b[0m\u001b[1;32mlambda\u001b[0m \u001b[0mx\u001b[0m\u001b[1;33m:\u001b[0m \u001b[0mprint\u001b[0m\u001b[1;33m(\u001b[0m\u001b[0mprocesses\u001b[0m\u001b[1;33m[\u001b[0m\u001b[1;33m:\u001b[0m\u001b[0mprocesses\u001b[0m\u001b[1;33m.\u001b[0m\u001b[0mindex\u001b[0m\u001b[1;33m(\u001b[0m\u001b[0mx\u001b[0m\u001b[1;33m)\u001b[0m\u001b[1;33m]\u001b[0m\u001b[1;33m[\u001b[0m\u001b[1;36m2\u001b[0m\u001b[1;33m]\u001b[0m\u001b[1;33m)\u001b[0m \u001b[1;32mif\u001b[0m \u001b[1;33m(\u001b[0m\u001b[0mprocesses\u001b[0m\u001b[1;33m.\u001b[0m\u001b[0mindex\u001b[0m\u001b[1;33m(\u001b[0m\u001b[0mx\u001b[0m\u001b[1;33m)\u001b[0m \u001b[1;33m-\u001b[0m \u001b[1;36m1\u001b[0m \u001b[1;33m>=\u001b[0m \u001b[1;36m0\u001b[0m\u001b[1;33m)\u001b[0m \u001b[1;32melse\u001b[0m \u001b[1;36m0\u001b[0m\u001b[1;33m,\u001b[0m \u001b[0mprocesses\u001b[0m\u001b[1;33m)\u001b[0m\u001b[1;33m)\u001b[0m\u001b[1;33m\u001b[0m\u001b[1;33m\u001b[0m\u001b[0m\n\u001b[0m\u001b[0;32m     10\u001b[0m     \u001b[0mp\u001b[0m \u001b[1;33m=\u001b[0m \u001b[0mlist\u001b[0m\u001b[1;33m(\u001b[0m\u001b[0mmap\u001b[0m\u001b[1;33m(\u001b[0m\u001b[1;32mlambda\u001b[0m \u001b[0mx\u001b[0m\u001b[1;33m:\u001b[0m \u001b[0mprocesses\u001b[0m\u001b[1;33m[\u001b[0m\u001b[0mprocesses\u001b[0m\u001b[1;33m.\u001b[0m\u001b[0mindex\u001b[0m\u001b[1;33m(\u001b[0m\u001b[0mx\u001b[0m\u001b[1;33m)\u001b[0m\u001b[1;33m]\u001b[0m\u001b[1;33m+\u001b[0m\u001b[1;33m(\u001b[0m\u001b[0mst\u001b[0m\u001b[1;33m[\u001b[0m\u001b[0mprocesses\u001b[0m\u001b[1;33m.\u001b[0m\u001b[0mindex\u001b[0m\u001b[1;33m(\u001b[0m\u001b[0mx\u001b[0m\u001b[1;33m)\u001b[0m\u001b[1;33m]\u001b[0m\u001b[1;33m,\u001b[0m\u001b[1;33m)\u001b[0m\u001b[1;33m,\u001b[0m\u001b[0mprocesses\u001b[0m\u001b[1;33m)\u001b[0m\u001b[1;33m)\u001b[0m\u001b[1;33m\u001b[0m\u001b[1;33m\u001b[0m\u001b[0m\n\u001b[0;32m     11\u001b[0m     \u001b[0mprint\u001b[0m\u001b[1;33m(\u001b[0m\u001b[0mp\u001b[0m\u001b[1;33m)\u001b[0m\u001b[1;33m\u001b[0m\u001b[1;33m\u001b[0m\u001b[0m\n",
      "\u001b[1;31mIndexError\u001b[0m: list index out of range"
     ]
    }
   ],
   "source": [
    "import pandas as pd\n",
    "from queue import Queue\n",
    "def sort_by_arrival_time(processes):\n",
    "    #processes_queue = Queue(maxsize=processes_number)\n",
    "    processes.sort(key=lambda x: x[1])\n",
    "    print(processes)\n",
    "    return processes\n",
    "def create_service_time(processes):\n",
    "    st = list(map(lambda x: sum(processes[:processes.index(x)][2]) if (processes.index(x) - 1 >= 0) else 0, processes))\n",
    "    p = list(map(lambda x: processes[processes.index(x)]+(st[processes.index(x)],),processes))\n",
    "    print(p)\n",
    "    return p\n",
    "def create_waiting_time(processes):\n",
    "    wt = list(map(lambda x: processes[:processes.index(x)][3]+processes[:processes.index(x)][1] if (processes.index(x) - 1 >= 0) else 0, processes))\n",
    "    p = list(map(lambda x: processes[processes.index(x)] + (wt[processes.index(x)],), processes))\n",
    "    return p\n",
    "def create_turn_around_time(processes):\n",
    "    tat = list(map(lambda x: ((processes[:processes.index(x)][3]+processes[:processes.index(x)][2])-processes[:processes.index(x)][1]), processes))\n",
    "    p = list(map(lambda x: processes[processes.index(x)] + (tat[processes.index(x)],), processes))\n",
    "    return p\n",
    "process_num = int(input(\"Enter the number of processes : \"))\n",
    "processes_arrival_time_list = list(map(int, input(\"Enter processes arrival time value: \").split()))\n",
    "processes_execution_time = list(map(int, input(\"Enter processes execution time value: \").split()))\n",
    "print('index of process',list(range(process_num)))\n",
    "print('arrival time',processes_arrival_time_list)\n",
    "print('execution time',processes_arrival_time_list)\n",
    "processes = list(zip(list(range(process_num)),processes_arrival_time_list,processes_execution_time))\n",
    "print(create_turn_around_time(create_waiting_time(create_service_time(sort_by_arrival_time(processes)))))\n"
   ]
  },
  {
   "cell_type": "code",
   "execution_count": 13,
   "id": "04aec7ca",
   "metadata": {},
   "outputs": [],
   "source": [
    "x = [5,4,6,7]"
   ]
  },
  {
   "cell_type": "code",
   "execution_count": 20,
   "id": "6c3b0224",
   "metadata": {},
   "outputs": [
    {
     "data": {
      "text/plain": [
       "[]"
      ]
     },
     "execution_count": 20,
     "metadata": {},
     "output_type": "execute_result"
    }
   ],
   "source": [
    "x[:x.index(5)]"
   ]
  },
  {
   "cell_type": "code",
   "execution_count": 21,
   "id": "5b73a676",
   "metadata": {},
   "outputs": [
    {
     "data": {
      "text/plain": [
       "0"
      ]
     },
     "execution_count": 21,
     "metadata": {},
     "output_type": "execute_result"
    }
   ],
   "source": [
    "x.index(5)"
   ]
  },
  {
   "cell_type": "code",
   "execution_count": 22,
   "id": "0da4d98e",
   "metadata": {},
   "outputs": [
    {
     "data": {
      "text/plain": [
       "3"
      ]
     },
     "execution_count": 22,
     "metadata": {},
     "output_type": "execute_result"
    }
   ],
   "source": [
    "x.index(7)"
   ]
  },
  {
   "cell_type": "code",
   "execution_count": 23,
   "id": "fcb073cf",
   "metadata": {},
   "outputs": [
    {
     "data": {
      "text/plain": [
       "[5, 4, 6]"
      ]
     },
     "execution_count": 23,
     "metadata": {},
     "output_type": "execute_result"
    }
   ],
   "source": [
    "x[:3]"
   ]
  },
  {
   "cell_type": "code",
   "execution_count": 47,
   "id": "0c8ca428",
   "metadata": {},
   "outputs": [
    {
     "name": "stdout",
     "output_type": "stream",
     "text": [
      "Enter the number of processes : 3\n",
      "Enter processes arrival time value: 2 0 1\n",
      "Enter processes execution time value: 5 15 10\n",
      "index of process [0, 1, 2]\n",
      "arrival time [2, 0, 1]\n",
      "execution time [2, 0, 1]\n",
      "[(1, 0, 15), (2, 1, 10), (0, 2, 5)]\n",
      "[(1, 0, 15, 0), (2, 1, 10, 15), (0, 2, 5, 25)]\n",
      "turn around [(1, 0, 15, 0, 0, <generator object create_turn_around_time.<locals>.<lambda>.<locals>.<genexpr> at 0x0000022D7F52F2E0>), (2, 1, 10, 15, <generator object create_waiting_time.<locals>.<lambda>.<locals>.<genexpr> at 0x0000022D7F52F190>, <generator object create_turn_around_time.<locals>.<lambda>.<locals>.<genexpr> at 0x0000022D7F52FD60>), (0, 2, 5, 25, <generator object create_waiting_time.<locals>.<lambda>.<locals>.<genexpr> at 0x0000022D7F52FDD0>, <generator object create_turn_around_time.<locals>.<lambda>.<locals>.<genexpr> at 0x0000022D7F52F350>)]\n",
      "[<generator object create_turn_around_time.<locals>.<lambda>.<locals>.<genexpr> at 0x0000022D7F52F2E0>, <generator object create_turn_around_time.<locals>.<lambda>.<locals>.<genexpr> at 0x0000022D7F52FD60>, <generator object create_turn_around_time.<locals>.<lambda>.<locals>.<genexpr> at 0x0000022D7F52F350>]\n"
     ]
    },
    {
     "data": {
      "text/plain": [
       "[(1,\n",
       "  0,\n",
       "  15,\n",
       "  0,\n",
       "  0,\n",
       "  <generator object create_turn_around_time.<locals>.<lambda>.<locals>.<genexpr> at 0x0000022D7F52F2E0>),\n",
       " (2,\n",
       "  1,\n",
       "  10,\n",
       "  15,\n",
       "  <generator object create_waiting_time.<locals>.<lambda>.<locals>.<genexpr> at 0x0000022D7F52F190>,\n",
       "  <generator object create_turn_around_time.<locals>.<lambda>.<locals>.<genexpr> at 0x0000022D7F52FD60>),\n",
       " (0,\n",
       "  2,\n",
       "  5,\n",
       "  25,\n",
       "  <generator object create_waiting_time.<locals>.<lambda>.<locals>.<genexpr> at 0x0000022D7F52FDD0>,\n",
       "  <generator object create_turn_around_time.<locals>.<lambda>.<locals>.<genexpr> at 0x0000022D7F52F350>)]"
      ]
     },
     "execution_count": 47,
     "metadata": {},
     "output_type": "execute_result"
    }
   ],
   "source": [
    "import pandas as pd\n",
    "from queue import Queue\n",
    "def sort_by_arrival_time(processes):\n",
    "    #processes_queue = Queue(maxsize=processes_number)\n",
    "    processes.sort(key=lambda x: x[1])\n",
    "    return processes\n",
    "def create_service_time(processes):\n",
    "    st = list(map(lambda x: sum(processes[:processes.index(x)][i][2] for i in range(processes.index(x))) if (processes.index(x) - 1 >= 0) else 0, processes))\n",
    "    p = list(map(lambda x: processes[processes.index(x)]+(st[processes.index(x)],),processes))\n",
    "    return p\n",
    "def create_waiting_time(processes):\n",
    "    wt = list(map(lambda x: (processes[:processes.index(x)][i][3]+processes[:processes.index(x)][i][1] for i in range(processes.index(x))) if (processes.index(x) - 1 >= 0) else 0, processes))\n",
    "    p = list(map(lambda x: processes[processes.index(x)] + (wt[processes.index(x)],), processes))\n",
    "    return p\n",
    "def create_turn_around_time(processes):\n",
    "    tat = list(map(lambda x: processes[processes.index(x)][3]+processes[processes.index(x)][2]-processes[processes.index(x)][1] , processes))\n",
    "    p = list(map(lambda x: processes[processes.index(x)] + (tat[processes.index(x)],), processes))\n",
    "    return p\n",
    "process_num = int(input(\"Enter the number of processes : \"))\n",
    "processes_arrival_time_list = list(map(int, input(\"Enter processes arrival time value: \").split()))\n",
    "processes_execution_time = list(map(int, input(\"Enter processes execution time value: \").split()))\n",
    "print('index of process',list(range(process_num)))\n",
    "print('arrival time',processes_arrival_time_list)\n",
    "print('execution time',processes_arrival_time_list)\n",
    "processes = list(zip(list(range(process_num)),processes_arrival_time_list,processes_execution_time))\n",
    "create_turn_around_time(create_waiting_time(create_service_time(sort_by_arrival_time(processes))))\n"
   ]
  },
  {
   "cell_type": "code",
   "execution_count": 26,
   "id": "de9d2fde",
   "metadata": {},
   "outputs": [],
   "source": [
    "processes = [(1, 0, 15), (2, 1, 10), (0, 2, 5)]"
   ]
  },
  {
   "cell_type": "code",
   "execution_count": 42,
   "id": "6e50f6d7",
   "metadata": {},
   "outputs": [
    {
     "data": {
      "text/plain": [
       "15"
      ]
     },
     "execution_count": 42,
     "metadata": {},
     "output_type": "execute_result"
    }
   ],
   "source": [
    "processes[:processes.index((0, 2, 5))][0][2]"
   ]
  },
  {
   "cell_type": "code",
   "execution_count": 43,
   "id": "82a8b52f",
   "metadata": {},
   "outputs": [],
   "source": [
    "st = list(map(lambda x: sum(processes[:processes.index(x)][i][2] for i in range(processes.index(x))) if (processes.index(x) - 1 >= 0) else 0, processes))"
   ]
  },
  {
   "cell_type": "code",
   "execution_count": 44,
   "id": "8d394186",
   "metadata": {},
   "outputs": [
    {
     "data": {
      "text/plain": [
       "[0, 15, 25]"
      ]
     },
     "execution_count": 44,
     "metadata": {},
     "output_type": "execute_result"
    }
   ],
   "source": [
    "st"
   ]
  },
  {
   "cell_type": "code",
   "execution_count": 2,
   "id": "499fa149",
   "metadata": {},
   "outputs": [],
   "source": [
    "processes = [(1, 0, 15, 0), (2, 1, 10, 15), (0, 2, 5, 25)]"
   ]
  },
  {
   "cell_type": "code",
   "execution_count": 56,
   "id": "179310c5",
   "metadata": {},
   "outputs": [
    {
     "data": {
      "text/plain": [
       "[15, 24, 28]"
      ]
     },
     "execution_count": 56,
     "metadata": {},
     "output_type": "execute_result"
    }
   ],
   "source": [
    "tat = list(map(lambda x: processes[processes.index(x)][3]+processes[processes.index(x)][2]-processes[processes.index(x)][1] , processes))\n",
    "tat"
   ]
  },
  {
   "cell_type": "code",
   "execution_count": 4,
   "id": "adec5eaf",
   "metadata": {},
   "outputs": [
    {
     "name": "stdout",
     "output_type": "stream",
     "text": [
      "[15, 24, 28]\n"
     ]
    },
    {
     "data": {
      "text/plain": [
       "[(1, 0, 15, 0, 15), (2, 1, 10, 15, 24), (0, 2, 5, 25, 28)]"
      ]
     },
     "execution_count": 4,
     "metadata": {},
     "output_type": "execute_result"
    }
   ],
   "source": [
    "tat = list(map(lambda x: processes[processes.index(x)][3]+processes[processes.index(x)][2]-processes[processes.index(x)][1] , processes))\n",
    "print(tat)\n",
    "p = list(map(lambda x: processes[processes.index(x)] + (tat[processes.index(x)],), processes))\n",
    "p"
   ]
  },
  {
   "cell_type": "code",
   "execution_count": 8,
   "id": "4ba14071",
   "metadata": {},
   "outputs": [
    {
     "name": "stdout",
     "output_type": "stream",
     "text": [
      "Enter the number of processes : 5\n",
      "Enter processes arrival time value: 2 0 1 3 4\n",
      "Enter processes execution time value: 15 20 14 8 12\n",
      "index of process [0, 1, 2, 3, 4]\n",
      "arrival time [2, 0, 1, 3, 4]\n",
      "execution time [2, 0, 1, 3, 4]\n"
     ]
    },
    {
     "data": {
      "text/html": [
       "<div>\n",
       "<style scoped>\n",
       "    .dataframe tbody tr th:only-of-type {\n",
       "        vertical-align: middle;\n",
       "    }\n",
       "\n",
       "    .dataframe tbody tr th {\n",
       "        vertical-align: top;\n",
       "    }\n",
       "\n",
       "    .dataframe thead th {\n",
       "        text-align: right;\n",
       "    }\n",
       "</style>\n",
       "<table border=\"1\" class=\"dataframe\">\n",
       "  <thead>\n",
       "    <tr style=\"text-align: right;\">\n",
       "      <th></th>\n",
       "      <th>index of process</th>\n",
       "      <th>arrival time</th>\n",
       "      <th>execution time</th>\n",
       "      <th>service time</th>\n",
       "      <th>waiting time</th>\n",
       "      <th>turn around time</th>\n",
       "    </tr>\n",
       "  </thead>\n",
       "  <tbody>\n",
       "    <tr>\n",
       "      <th>0</th>\n",
       "      <td>1</td>\n",
       "      <td>0</td>\n",
       "      <td>20</td>\n",
       "      <td>0</td>\n",
       "      <td>0</td>\n",
       "      <td>20</td>\n",
       "    </tr>\n",
       "    <tr>\n",
       "      <th>1</th>\n",
       "      <td>2</td>\n",
       "      <td>1</td>\n",
       "      <td>14</td>\n",
       "      <td>20</td>\n",
       "      <td>19</td>\n",
       "      <td>33</td>\n",
       "    </tr>\n",
       "    <tr>\n",
       "      <th>2</th>\n",
       "      <td>0</td>\n",
       "      <td>2</td>\n",
       "      <td>15</td>\n",
       "      <td>34</td>\n",
       "      <td>32</td>\n",
       "      <td>47</td>\n",
       "    </tr>\n",
       "    <tr>\n",
       "      <th>3</th>\n",
       "      <td>3</td>\n",
       "      <td>3</td>\n",
       "      <td>8</td>\n",
       "      <td>49</td>\n",
       "      <td>46</td>\n",
       "      <td>54</td>\n",
       "    </tr>\n",
       "    <tr>\n",
       "      <th>4</th>\n",
       "      <td>4</td>\n",
       "      <td>4</td>\n",
       "      <td>12</td>\n",
       "      <td>57</td>\n",
       "      <td>53</td>\n",
       "      <td>65</td>\n",
       "    </tr>\n",
       "  </tbody>\n",
       "</table>\n",
       "</div>"
      ],
      "text/plain": [
       "   index of process  arrival time  execution time  service time  waiting time  \\\n",
       "0                 1             0              20             0             0   \n",
       "1                 2             1              14            20            19   \n",
       "2                 0             2              15            34            32   \n",
       "3                 3             3               8            49            46   \n",
       "4                 4             4              12            57            53   \n",
       "\n",
       "   turn around time  \n",
       "0                20  \n",
       "1                33  \n",
       "2                47  \n",
       "3                54  \n",
       "4                65  "
      ]
     },
     "execution_count": 8,
     "metadata": {},
     "output_type": "execute_result"
    }
   ],
   "source": [
    "import pandas as pd\n",
    "def sort_by_arrival_time(processes):\n",
    "    processes.sort(key=lambda x: x[1])\n",
    "    return processes\n",
    "def create_service_time(processes):\n",
    "    st = list(map(lambda x: sum(processes[:processes.index(x)][i][2] for i in range(processes.index(x))) if (processes.index(x) - 1 >= 0) else 0, processes))\n",
    "    p = list(map(lambda x: processes[processes.index(x)]+(st[processes.index(x)],),processes))\n",
    "    return p\n",
    "def create_waiting_time(processes):\n",
    "    wt = list(map(lambda x: processes[processes.index(x)][3]-processes[processes.index(x)][1] if (processes.index(x) - 1 >= 0) else 0, processes))\n",
    "    p = list(map(lambda x: processes[processes.index(x)] + (wt[processes.index(x)],), processes))\n",
    "    return p\n",
    "def create_turn_around_time(processes):\n",
    "    tat = list(map(lambda x: processes[processes.index(x)][3]+processes[processes.index(x)][2]-processes[processes.index(x)][1] , processes))\n",
    "    p = list(map(lambda x: processes[processes.index(x)] + (tat[processes.index(x)],), processes))\n",
    "    df = pd.DataFrame(p,columns=['index of process','arrival time','execution time','service time','waiting time','turn around time'])\n",
    "    return df\n",
    "process_num = int(input(\"Enter the number of processes : \"))\n",
    "processes_arrival_time_list = list(map(int, input(\"Enter processes arrival time value: \").split()))\n",
    "processes_execution_time = list(map(int, input(\"Enter processes execution time value: \").split()))\n",
    "print('index of process',list(range(process_num)))\n",
    "print('arrival time',processes_arrival_time_list)\n",
    "print('execution time',processes_execution_time)\n",
    "processes = list(zip(list(range(process_num)),processes_arrival_time_list,processes_execution_time))\n",
    "df = create_turn_around_time(create_waiting_time(create_service_time(sort_by_arrival_time(processes))))\n",
    "df.head(process_num)"
   ]
  },
  {
   "cell_type": "code",
   "execution_count": null,
   "id": "6f382be7",
   "metadata": {},
   "outputs": [],
   "source": []
  }
 ],
 "metadata": {
  "kernelspec": {
   "display_name": "Python 3",
   "language": "python",
   "name": "python3"
  },
  "language_info": {
   "codemirror_mode": {
    "name": "ipython",
    "version": 3
   },
   "file_extension": ".py",
   "mimetype": "text/x-python",
   "name": "python",
   "nbconvert_exporter": "python",
   "pygments_lexer": "ipython3",
   "version": "3.8.8"
  }
 },
 "nbformat": 4,
 "nbformat_minor": 5
}
